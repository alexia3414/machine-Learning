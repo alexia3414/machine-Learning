{
 "cells": [
  {
   "cell_type": "code",
   "execution_count": 7,
   "id": "b3f5a6fb-f6aa-4f66-8cce-12fc0f71f38d",
   "metadata": {},
   "outputs": [],
   "source": [
    "import numpy as np\n",
    "import pandas as pd\n",
    "import matplotlib.pyplot as plt\n",
    "import seaborn as sb\n",
    "from sklearn.model_selection import train_test_split\n",
    "from sklearn.linear_model import LogisticRegression\n",
    "from sklearn.preprocessing import StandardScaler\n",
    "from sklearn.metrics import*"
   ]
  },
  {
   "cell_type": "code",
   "execution_count": 8,
   "id": "bfbb3013-c2fd-479f-941d-f139495b0443",
   "metadata": {},
   "outputs": [
    {
     "name": "stdout",
     "output_type": "stream",
     "text": [
      "   Age  Salary  Education  Capital  Loan\n",
      "0   19   19000          0        2     0\n",
      "1   35   20000          0        2     0\n",
      "2   26   43000          0        0     0\n",
      "3   27   57000          0        0     0\n",
      "4   19   76000          1        0     0\n"
     ]
    }
   ],
   "source": [
    "data=pd.read_csv('Loan_application.csv')\n",
    "print(data.head())"
   ]
  },
  {
   "cell_type": "code",
   "execution_count": 9,
   "id": "7d90c04c-e5c0-4004-8960-a7369fa6e590",
   "metadata": {},
   "outputs": [
    {
     "name": "stdout",
     "output_type": "stream",
     "text": [
      "Age          0\n",
      "Salary       0\n",
      "Education    0\n",
      "Capital      0\n",
      "Loan         0\n",
      "dtype: int64\n"
     ]
    }
   ],
   "source": [
    "print(data.isnull().sum())"
   ]
  },
  {
   "cell_type": "code",
   "execution_count": 10,
   "id": "63917348-f46e-4b72-8562-e6d4627a88d4",
   "metadata": {},
   "outputs": [
    {
     "name": "stdout",
     "output_type": "stream",
     "text": [
      "     Age  Salary  Education  Capital  Loan\n",
      "0     19   19000          0        2     0\n",
      "1     35   20000          0        2     0\n",
      "2     26   43000          0        0     0\n",
      "3     27   57000          0        0     0\n",
      "4     19   76000          1        0     0\n",
      "..   ...     ...        ...      ...   ...\n",
      "395   46   41000          1        3     0\n",
      "396   51   23000          0        4     0\n",
      "397   50   20000          0        3     0\n",
      "398   36   33000          0        0     0\n",
      "399   49   36000          1        1     0\n",
      "\n",
      "[400 rows x 5 columns]\n"
     ]
    }
   ],
   "source": [
    "print(data.dropna())"
   ]
  },
  {
   "cell_type": "code",
   "execution_count": 11,
   "id": "f14552a3-a96a-40e2-808c-07f6c57db55a",
   "metadata": {},
   "outputs": [
    {
     "name": "stdout",
     "output_type": "stream",
     "text": [
      "Age          0\n",
      "Salary       0\n",
      "Education    0\n",
      "Capital      0\n",
      "Loan         0\n",
      "dtype: int64\n"
     ]
    }
   ],
   "source": [
    "print(data.isnull().sum())"
   ]
  },
  {
   "cell_type": "code",
   "execution_count": 12,
   "id": "9b0b4e66-9fc0-4d30-9d57-8b1b31812d07",
   "metadata": {},
   "outputs": [
    {
     "name": "stdout",
     "output_type": "stream",
     "text": [
      "     Age  Salary  Education  Capital  Loan\n",
      "0     19   19000          0        2     0\n",
      "1     35   20000          0        2     0\n",
      "2     26   43000          0        0     0\n",
      "3     27   57000          0        0     0\n",
      "4     19   76000          1        0     0\n",
      "..   ...     ...        ...      ...   ...\n",
      "395   46   41000          1        3     0\n",
      "396   51   23000          0        4     0\n",
      "397   50   20000          0        3     0\n",
      "398   36   33000          0        0     0\n",
      "399   49   36000          1        1     0\n",
      "\n",
      "[400 rows x 5 columns]\n"
     ]
    }
   ],
   "source": [
    "print(data.fillna('1'))"
   ]
  },
  {
   "cell_type": "code",
   "execution_count": 13,
   "id": "c5d22969-1662-4b16-a06c-bdaf18ede2b3",
   "metadata": {},
   "outputs": [
    {
     "name": "stdout",
     "output_type": "stream",
     "text": [
      "Age          0\n",
      "Salary       0\n",
      "Education    0\n",
      "Capital      0\n",
      "Loan         0\n",
      "dtype: int64\n"
     ]
    }
   ],
   "source": [
    "print(data.isnull().sum())"
   ]
  },
  {
   "cell_type": "code",
   "execution_count": 14,
   "id": "6ebb045a-e8aa-48d4-9186-7ad774fae4ac",
   "metadata": {},
   "outputs": [
    {
     "data": {
      "text/plain": [
       "array([[   19, 19000,     0,     2],\n",
       "       [   35, 20000,     0,     2],\n",
       "       [   26, 43000,     0,     0],\n",
       "       ...,\n",
       "       [   50, 20000,     0,     3],\n",
       "       [   36, 33000,     0,     0],\n",
       "       [   49, 36000,     1,     1]], dtype=int64)"
      ]
     },
     "execution_count": 14,
     "metadata": {},
     "output_type": "execute_result"
    }
   ],
   "source": [
    "x = data.iloc[:,:-1].values\n",
    "y=data.iloc[:,-1].values\n",
    "x"
   ]
  },
  {
   "cell_type": "code",
   "execution_count": 16,
   "id": "24a708f6-662b-4598-ada7-1f85f49fb2ea",
   "metadata": {},
   "outputs": [
    {
     "ename": "NameError",
     "evalue": "name 'train_test_split' is not defined",
     "output_type": "error",
     "traceback": [
      "\u001b[1;31m---------------------------------------------------------------------------\u001b[0m",
      "\u001b[1;31mNameError\u001b[0m                                 Traceback (most recent call last)",
      "Cell \u001b[1;32mIn[16], line 1\u001b[0m\n\u001b[1;32m----> 1\u001b[0m x_train,x_test,y_train,y_test\u001b[38;5;241m=\u001b[39mtrain_test_split(x,y,test_size\u001b[38;5;241m=\u001b[39m\u001b[38;5;241m0.2\u001b[39m,random_state\u001b[38;5;241m=\u001b[39m\u001b[38;5;241m40\u001b[39m)\n\u001b[0;32m      2\u001b[0m ss\u001b[38;5;241m=\u001b[39mStandardScaler()\n\u001b[0;32m      3\u001b[0m x_train[:,[\u001b[38;5;241m0\u001b[39m,\u001b[38;5;241m1\u001b[39m]]\u001b[38;5;241m=\u001b[39mss\u001b[38;5;241m.\u001b[39mfit_transform(x_train[:,[\u001b[38;5;241m0\u001b[39m,\u001b[38;5;241m1\u001b[39m]])\n",
      "\u001b[1;31mNameError\u001b[0m: name 'train_test_split' is not defined"
     ]
    }
   ],
   "source": [
    "x_train,x_test,y_train,y_test=train_test_split(x,y,test_size=0.2,random_state=40)\n",
    "ss=StandardScaler()\n",
    "x_train[:,[0,1]]=ss.fit_transform(x_train[:,[0,1]])\n",
    "x_test[:,[0,1]]=ss.transform(x_test[:,[0,1]])\n",
    "x_train"
   ]
  },
  {
   "cell_type": "code",
   "execution_count": null,
   "id": "51e6ad91-d245-4fe9-9852-e31340a096a7",
   "metadata": {},
   "outputs": [],
   "source": []
  }
 ],
 "metadata": {
  "kernelspec": {
   "display_name": "Python 3 (ipykernel)",
   "language": "python",
   "name": "python3"
  },
  "language_info": {
   "codemirror_mode": {
    "name": "ipython",
    "version": 3
   },
   "file_extension": ".py",
   "mimetype": "text/x-python",
   "name": "python",
   "nbconvert_exporter": "python",
   "pygments_lexer": "ipython3",
   "version": "3.12.7"
  }
 },
 "nbformat": 4,
 "nbformat_minor": 5
}
